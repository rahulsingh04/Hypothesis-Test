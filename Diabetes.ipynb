{
 "cells": [
  {
   "cell_type": "code",
   "execution_count": 1,
   "id": "1cc533fb",
   "metadata": {
    "scrolled": true
   },
   "outputs": [
    {
     "data": {
      "text/html": [
       "<div>\n",
       "<style scoped>\n",
       "    .dataframe tbody tr th:only-of-type {\n",
       "        vertical-align: middle;\n",
       "    }\n",
       "\n",
       "    .dataframe tbody tr th {\n",
       "        vertical-align: top;\n",
       "    }\n",
       "\n",
       "    .dataframe thead th {\n",
       "        text-align: right;\n",
       "    }\n",
       "</style>\n",
       "<table border=\"1\" class=\"dataframe\">\n",
       "  <thead>\n",
       "    <tr style=\"text-align: right;\">\n",
       "      <th></th>\n",
       "      <th>Diabetes_binary</th>\n",
       "      <th>HighBP</th>\n",
       "      <th>HighChol</th>\n",
       "      <th>CholCheck</th>\n",
       "      <th>BMI</th>\n",
       "      <th>Smoker</th>\n",
       "      <th>Stroke</th>\n",
       "      <th>HeartDiseaseorAttack</th>\n",
       "      <th>PhysActivity</th>\n",
       "      <th>Fruits</th>\n",
       "      <th>Veggies</th>\n",
       "      <th>HvyAlcoholConsump</th>\n",
       "      <th>AnyHealthcare</th>\n",
       "      <th>NoDocbcCost</th>\n",
       "      <th>GenHlth</th>\n",
       "      <th>MentHlth</th>\n",
       "      <th>PhysHlth</th>\n",
       "      <th>DiffWalk</th>\n",
       "      <th>Sex</th>\n",
       "      <th>Age</th>\n",
       "      <th>Education</th>\n",
       "      <th>Income</th>\n",
       "    </tr>\n",
       "  </thead>\n",
       "  <tbody>\n",
       "    <tr>\n",
       "      <th>0</th>\n",
       "      <td>0.0</td>\n",
       "      <td>1.0</td>\n",
       "      <td>1.0</td>\n",
       "      <td>1.0</td>\n",
       "      <td>40.0</td>\n",
       "      <td>1.0</td>\n",
       "      <td>0.0</td>\n",
       "      <td>0.0</td>\n",
       "      <td>0.0</td>\n",
       "      <td>0.0</td>\n",
       "      <td>1.0</td>\n",
       "      <td>0.0</td>\n",
       "      <td>1.0</td>\n",
       "      <td>0.0</td>\n",
       "      <td>5.0</td>\n",
       "      <td>18.0</td>\n",
       "      <td>15.0</td>\n",
       "      <td>1.0</td>\n",
       "      <td>0.0</td>\n",
       "      <td>9.0</td>\n",
       "      <td>4.0</td>\n",
       "      <td>3.0</td>\n",
       "    </tr>\n",
       "    <tr>\n",
       "      <th>1</th>\n",
       "      <td>0.0</td>\n",
       "      <td>0.0</td>\n",
       "      <td>0.0</td>\n",
       "      <td>0.0</td>\n",
       "      <td>25.0</td>\n",
       "      <td>1.0</td>\n",
       "      <td>0.0</td>\n",
       "      <td>0.0</td>\n",
       "      <td>1.0</td>\n",
       "      <td>0.0</td>\n",
       "      <td>0.0</td>\n",
       "      <td>0.0</td>\n",
       "      <td>0.0</td>\n",
       "      <td>1.0</td>\n",
       "      <td>3.0</td>\n",
       "      <td>0.0</td>\n",
       "      <td>0.0</td>\n",
       "      <td>0.0</td>\n",
       "      <td>0.0</td>\n",
       "      <td>7.0</td>\n",
       "      <td>6.0</td>\n",
       "      <td>1.0</td>\n",
       "    </tr>\n",
       "  </tbody>\n",
       "</table>\n",
       "</div>"
      ],
      "text/plain": [
       "   Diabetes_binary  HighBP  HighChol  CholCheck   BMI  Smoker  Stroke  \\\n",
       "0              0.0     1.0       1.0        1.0  40.0     1.0     0.0   \n",
       "1              0.0     0.0       0.0        0.0  25.0     1.0     0.0   \n",
       "\n",
       "   HeartDiseaseorAttack  PhysActivity  Fruits  Veggies  HvyAlcoholConsump  \\\n",
       "0                   0.0           0.0     0.0      1.0                0.0   \n",
       "1                   0.0           1.0     0.0      0.0                0.0   \n",
       "\n",
       "   AnyHealthcare  NoDocbcCost  GenHlth  MentHlth  PhysHlth  DiffWalk  Sex  \\\n",
       "0            1.0          0.0      5.0      18.0      15.0       1.0  0.0   \n",
       "1            0.0          1.0      3.0       0.0       0.0       0.0  0.0   \n",
       "\n",
       "   Age  Education  Income  \n",
       "0  9.0        4.0     3.0  \n",
       "1  7.0        6.0     1.0  "
      ]
     },
     "execution_count": 1,
     "metadata": {},
     "output_type": "execute_result"
    }
   ],
   "source": [
    "import pandas as pd\n",
    "pd.set_option(\"display.max_columns\", 500)\n",
    "import numpy as np\n",
    "import seaborn as sns\n",
    "import matplotlib.pyplot as plt\n",
    "data = pd.read_csv(\"diabetes_binary_health_indicators_BRFSS2015.csv\")\n",
    "data.head(2)"
   ]
  },
  {
   "cell_type": "markdown",
   "id": "c9d7c371",
   "metadata": {},
   "source": [
    "## UNIVARIATE ANALYSIS"
   ]
  },
  {
   "cell_type": "code",
   "execution_count": 2,
   "id": "fceda019",
   "metadata": {},
   "outputs": [
    {
     "data": {
      "text/html": [
       "<div>\n",
       "<style scoped>\n",
       "    .dataframe tbody tr th:only-of-type {\n",
       "        vertical-align: middle;\n",
       "    }\n",
       "\n",
       "    .dataframe tbody tr th {\n",
       "        vertical-align: top;\n",
       "    }\n",
       "\n",
       "    .dataframe thead th {\n",
       "        text-align: right;\n",
       "    }\n",
       "</style>\n",
       "<table border=\"1\" class=\"dataframe\">\n",
       "  <thead>\n",
       "    <tr style=\"text-align: right;\">\n",
       "      <th></th>\n",
       "      <th>Diabetes_binary</th>\n",
       "    </tr>\n",
       "  </thead>\n",
       "  <tbody>\n",
       "    <tr>\n",
       "      <th>0.0</th>\n",
       "      <td>86.066698</td>\n",
       "    </tr>\n",
       "    <tr>\n",
       "      <th>1.0</th>\n",
       "      <td>13.933302</td>\n",
       "    </tr>\n",
       "  </tbody>\n",
       "</table>\n",
       "</div>"
      ],
      "text/plain": [
       "     Diabetes_binary\n",
       "0.0        86.066698\n",
       "1.0        13.933302"
      ]
     },
     "metadata": {},
     "output_type": "display_data"
    },
    {
     "data": {
      "text/plain": [
       "<AxesSubplot:>"
      ]
     },
     "execution_count": 2,
     "metadata": {},
     "output_type": "execute_result"
    },
    {
     "data": {
      "image/png": "[encoded data removed]",
      "text/plain": [
       "<Figure size 432x288 with 1 Axes>"
      ]
     },
     "metadata": {
      "needs_background": "light"
     },
     "output_type": "display_data"
    }
   ],
   "source": [
    "display((data['Diabetes_binary'].value_counts(normalize = True)*100).to_frame())\n",
    "data['Diabetes_binary'].value_counts(normalize=True).plot(kind='bar')"
   ]
  },
  {
   "cell_type": "code",
   "execution_count": 3,
   "id": "baa610ce",
   "metadata": {},
   "outputs": [
    {
     "data": {
      "image/png": "[encoded data removed]",
      "text/plain": [
       "<Figure size 432x288 with 1 Axes>"
      ]
     },
     "metadata": {
      "needs_background": "light"
     },
     "output_type": "display_data"
    }
   ],
   "source": [
    "### MOST OF THE VALUE FALL FROM THE RANGE OF 20 - 30\n",
    "plt.hist(data['BMI'], bins=10)\n",
    "plt.show()"
   ]
  },
  {
   "cell_type": "markdown",
   "id": "8959d259",
   "metadata": {},
   "source": [
    "### BI-VARIATE ANALYSIS"
   ]
  },
  {
   "cell_type": "code",
   "execution_count": 4,
   "id": "83b00cd8",
   "metadata": {},
   "outputs": [
    {
     "data": {
      "text/html": [
       "<div>\n",
       "<style scoped>\n",
       "    .dataframe tbody tr th:only-of-type {\n",
       "        vertical-align: middle;\n",
       "    }\n",
       "\n",
       "    .dataframe tbody tr th {\n",
       "        vertical-align: top;\n",
       "    }\n",
       "\n",
       "    .dataframe thead th {\n",
       "        text-align: right;\n",
       "    }\n",
       "</style>\n",
       "<table border=\"1\" class=\"dataframe\">\n",
       "  <thead>\n",
       "    <tr style=\"text-align: right;\">\n",
       "      <th>Sex</th>\n",
       "      <th>0.0</th>\n",
       "      <th>1.0</th>\n",
       "    </tr>\n",
       "    <tr>\n",
       "      <th>Diabetes_binary</th>\n",
       "      <th></th>\n",
       "      <th></th>\n",
       "    </tr>\n",
       "  </thead>\n",
       "  <tbody>\n",
       "    <tr>\n",
       "      <th>0.0</th>\n",
       "      <td>123563</td>\n",
       "      <td>94771</td>\n",
       "    </tr>\n",
       "    <tr>\n",
       "      <th>1.0</th>\n",
       "      <td>18411</td>\n",
       "      <td>16935</td>\n",
       "    </tr>\n",
       "  </tbody>\n",
       "</table>\n",
       "</div>"
      ],
      "text/plain": [
       "Sex                 0.0    1.0\n",
       "Diabetes_binary               \n",
       "0.0              123563  94771\n",
       "1.0               18411  16935"
      ]
     },
     "metadata": {},
     "output_type": "display_data"
    },
    {
     "data": {
      "image/png": "[encoded data removed]",
      "text/plain": [
       "<Figure size 432x288 with 2 Axes>"
      ]
     },
     "metadata": {
      "needs_background": "light"
     },
     "output_type": "display_data"
    }
   ],
   "source": [
    "display(pd.crosstab(data['Diabetes_binary'], data['Sex']))\n",
    "sns.heatmap(pd.crosstab(data['Diabetes_binary'], data['Sex']), annot=True);"
   ]
  },
  {
   "cell_type": "code",
   "execution_count": 5,
   "id": "0f90060f",
   "metadata": {},
   "outputs": [
    {
     "data": {
      "text/html": [
       "<div>\n",
       "<style scoped>\n",
       "    .dataframe tbody tr th:only-of-type {\n",
       "        vertical-align: middle;\n",
       "    }\n",
       "\n",
       "    .dataframe tbody tr th {\n",
       "        vertical-align: top;\n",
       "    }\n",
       "\n",
       "    .dataframe thead th {\n",
       "        text-align: right;\n",
       "    }\n",
       "</style>\n",
       "<table border=\"1\" class=\"dataframe\">\n",
       "  <thead>\n",
       "    <tr style=\"text-align: right;\">\n",
       "      <th>HighBP</th>\n",
       "      <th>0.0</th>\n",
       "      <th>1.0</th>\n",
       "    </tr>\n",
       "    <tr>\n",
       "      <th>HighChol</th>\n",
       "      <th></th>\n",
       "      <th></th>\n",
       "    </tr>\n",
       "  </thead>\n",
       "  <tbody>\n",
       "    <tr>\n",
       "      <th>0.0</th>\n",
       "      <td>101920</td>\n",
       "      <td>44169</td>\n",
       "    </tr>\n",
       "    <tr>\n",
       "      <th>1.0</th>\n",
       "      <td>42931</td>\n",
       "      <td>64660</td>\n",
       "    </tr>\n",
       "  </tbody>\n",
       "</table>\n",
       "</div>"
      ],
      "text/plain": [
       "HighBP       0.0    1.0\n",
       "HighChol               \n",
       "0.0       101920  44169\n",
       "1.0        42931  64660"
      ]
     },
     "metadata": {},
     "output_type": "display_data"
    },
    {
     "data": {
      "text/plain": [
       "<AxesSubplot:xlabel='HighBP', ylabel='HighChol'>"
      ]
     },
     "execution_count": 5,
     "metadata": {},
     "output_type": "execute_result"
    },
    {
     "data": {
      "image/png": "[encoded data removed]",
      "text/plain": [
       "<Figure size 432x288 with 2 Axes>"
      ]
     },
     "metadata": {
      "needs_background": "light"
     },
     "output_type": "display_data"
    }
   ],
   "source": [
    "display(pd.crosstab(data['HighChol'], data['HighBP']))\n",
    "sns.heatmap(pd.crosstab(data['HighChol'], data['HighBP']), annot=True, cmap ='gist_heat')"
   ]
  },
  {
   "cell_type": "code",
   "execution_count": null,
   "id": "eff2573c",
   "metadata": {},
   "outputs": [],
   "source": []
  },
  {
   "cell_type": "markdown",
   "id": "437e1d46",
   "metadata": {},
   "source": [
    "#### In this section, we'll look at how different category variables relate to whether a patient has autism or not by utilizing the Chi-Square method.\n",
    "\n",
    "#### Note: Finding relationships between categorical data via correlation is one of data science's pitfalls.\n",
    "\n",
    "#### Formulate our hypothesis\n",
    "#### H0 - The feature did not have significance difference with Diabetes class.\n",
    "\n",
    "#### H1 - The feature checked have significant difference with Diabetes class.\n",
    "\n",
    "#### If the p-value is > 0.05 hence the feature did not have significance effect on Diabetes class and vice versa."
   ]
  },
  {
   "cell_type": "code",
   "execution_count": 6,
   "id": "5037e807",
   "metadata": {},
   "outputs": [],
   "source": [
    "from sklearn.feature_selection import SelectKBest\n",
    "from sklearn.feature_selection import chi2\n",
    "from scipy.stats import chisquare, chi2_contingency ## Stastical test\n",
    "\n",
    "def chi_check(var1, var2, significance_level=None):\n",
    "  tab_class = pd.crosstab(data[var1], data[var2], margins=True)\n",
    "  tab_values = np.array([tab_class.iloc[0].values,\n",
    "                  tab_class.iloc[1].values])\n",
    "  stat, p, dof, expected_value= chi2_contingency(tab_values)\n",
    "  print(\"p value: \" + str(p)) \n",
    "  if p <= significance_level: \n",
    "    print('Reject NULL HYPOTHESIS') \n",
    "  else:\n",
    "    print('ACCEPT NULL HYPOTHESIS')"
   ]
  },
  {
   "cell_type": "code",
   "execution_count": 7,
   "id": "d3b58ab5",
   "metadata": {},
   "outputs": [
    {
     "name": "stdout",
     "output_type": "stream",
     "text": [
      "p value: 0.0\n",
      "Reject NULL HYPOTHESIS\n",
      "p value: 0.0\n",
      "Reject NULL HYPOTHESIS\n",
      "p value: 0.0\n",
      "Reject NULL HYPOTHESIS\n",
      "p value: 0.0\n",
      "Reject NULL HYPOTHESIS\n"
     ]
    }
   ],
   "source": [
    "chi_check('HighBP', 'HighChol', significance_level=0.05)\n",
    "chi_check('HighBP', 'Diabetes_binary', significance_level=0.05)\n",
    "chi_check('HighChol', 'Diabetes_binary', significance_level=0.05)\n",
    "chi_check('CholCheck', 'HighChol', significance_level=0.05)"
   ]
  },
  {
   "cell_type": "code",
   "execution_count": 10,
   "id": "1a327549",
   "metadata": {},
   "outputs": [
    {
     "name": "stdout",
     "output_type": "stream",
     "text": [
      "HighChol     0.0    1.0\n",
      "HighBP                 \n",
      "0.0       101920  42931\n",
      "1.0        44169  64660\n"
     ]
    }
   ],
   "source": [
    "dataset_table=pd.crosstab(data['HighBP'],data['HighChol'])\n",
    "print(dataset_table)"
   ]
  },
  {
   "cell_type": "code",
   "execution_count": 11,
   "id": "e50ea1db",
   "metadata": {},
   "outputs": [
    {
     "name": "stdout",
     "output_type": "stream",
     "text": [
      "Observed Values :-\n",
      " [[101920  42931]\n",
      " [ 44169  64660]]\n"
     ]
    }
   ],
   "source": [
    "#Observed Values\n",
    "Observed_Values = dataset_table.values \n",
    "print(\"Observed Values :-\\n\",Observed_Values)"
   ]
  },
  {
   "cell_type": "code",
   "execution_count": 14,
   "id": "73b5f29b",
   "metadata": {},
   "outputs": [
    {
     "data": {
      "text/plain": [
       "(22556.72176125731,\n",
       " 0.0,\n",
       " 1,\n",
       " array([[83416.65775386, 61434.34224614],\n",
       "        [62672.34224614, 46156.65775386]]))"
      ]
     },
     "execution_count": 14,
     "metadata": {},
     "output_type": "execute_result"
    }
   ],
   "source": [
    "import scipy.stats as stats\n",
    "val=stats.chi2_contingency(dataset_table)\n",
    "val"
   ]
  },
  {
   "cell_type": "code",
   "execution_count": 15,
   "id": "c138f3c9",
   "metadata": {},
   "outputs": [
    {
     "data": {
      "text/plain": [
       "array([[83416.65775386, 61434.34224614],\n",
       "       [62672.34224614, 46156.65775386]])"
      ]
     },
     "execution_count": 15,
     "metadata": {},
     "output_type": "execute_result"
    }
   ],
   "source": [
    "Expected_Values=val[3]\n",
    "Expected_Values"
   ]
  },
  {
   "cell_type": "code",
   "execution_count": 16,
   "id": "43f2c950",
   "metadata": {},
   "outputs": [
    {
     "name": "stdout",
     "output_type": "stream",
     "text": [
      "Degree of Freedom:- 1\n"
     ]
    }
   ],
   "source": [
    "no_of_rows=len(dataset_table.iloc[0:2,0])\n",
    "no_of_columns=len(dataset_table.iloc[0,0:2])\n",
    "ddof=(no_of_rows-1)*(no_of_columns-1)\n",
    "print(\"Degree of Freedom:-\",ddof)\n",
    "alpha = 0.05"
   ]
  },
  {
   "cell_type": "code",
   "execution_count": 17,
   "id": "b78c5b24",
   "metadata": {},
   "outputs": [],
   "source": [
    "from scipy.stats import chi2\n",
    "chi_square=sum([(o-e)**2./e for o,e in zip(Observed_Values,Expected_Values)])\n",
    "chi_square_statistic=chi_square[0]+chi_square[1]"
   ]
  },
  {
   "cell_type": "code",
   "execution_count": 18,
   "id": "d27ac089",
   "metadata": {},
   "outputs": [
    {
     "name": "stdout",
     "output_type": "stream",
     "text": [
      "chi-square statistic:- 22557.940872690833\n"
     ]
    }
   ],
   "source": [
    "print(\"chi-square statistic:-\",chi_square_statistic)"
   ]
  },
  {
   "cell_type": "code",
   "execution_count": 19,
   "id": "e61d06e6",
   "metadata": {},
   "outputs": [
    {
     "name": "stdout",
     "output_type": "stream",
     "text": [
      "critical_value: 3.841458820694124\n"
     ]
    }
   ],
   "source": [
    "critical_value=chi2.ppf(q=1-alpha,df=ddof)\n",
    "print('critical_value:',critical_value)"
   ]
  },
  {
   "cell_type": "code",
   "execution_count": 20,
   "id": "505343ae",
   "metadata": {},
   "outputs": [
    {
     "name": "stdout",
     "output_type": "stream",
     "text": [
      "p-value: 0.0\n",
      "Significance level:  0.05\n",
      "Degree of Freedom:  1\n",
      "p-value: 0.0\n"
     ]
    }
   ],
   "source": [
    "#p-value\n",
    "p_value=1-chi2.cdf(x=chi_square_statistic,df=ddof)\n",
    "print('p-value:',p_value)\n",
    "print('Significance level: ',alpha)\n",
    "print('Degree of Freedom: ',ddof)\n",
    "print('p-value:',p_value)"
   ]
  },
  {
   "cell_type": "code",
   "execution_count": 21,
   "id": "671a7ddc",
   "metadata": {},
   "outputs": [
    {
     "name": "stdout",
     "output_type": "stream",
     "text": [
      "Reject H0,There is a relationship between 2 categorical variables\n",
      "Reject H0,There is a relationship between 2 categorical variables\n"
     ]
    }
   ],
   "source": [
    "if chi_square_statistic>=critical_value:\n",
    "    print(\"Reject H0,There is a relationship between 2 categorical variables\")\n",
    "else:\n",
    "    print(\"Retain H0,There is no relationship between 2 categorical variables\")\n",
    "    \n",
    "if p_value<=alpha:\n",
    "    print(\"Reject H0,There is a relationship between 2 categorical variables\")\n",
    "else:\n",
    "    print(\"Retain H0,There is no relationship between 2 categorical variables\")"
   ]
  },
  {
   "cell_type": "code",
   "execution_count": null,
   "id": "42b4c74a",
   "metadata": {},
   "outputs": [],
   "source": []
  },
  {
   "cell_type": "markdown",
   "id": "86788fc2",
   "metadata": {},
   "source": [
    "### FEATURE SELECTION WITH CHI - SQUARE"
   ]
  },
  {
   "cell_type": "code",
   "execution_count": 26,
   "id": "d7547cb9",
   "metadata": {},
   "outputs": [],
   "source": [
    "data = data.astype('int64')\n",
    "x = data.drop('Diabetes_binary', axis=1)\n",
    "y = data['Diabetes_binary']"
   ]
  },
  {
   "cell_type": "code",
   "execution_count": 32,
   "id": "0e3de693",
   "metadata": {},
   "outputs": [
    {
     "data": {
      "text/plain": [
       "(array([1.00290139e+04, 5.85971058e+03, 3.97168252e+01, 1.83551664e+04,\n",
       "        5.21978858e+02, 2.72522519e+03, 7.22197538e+03, 8.61887532e+02,\n",
       "        1.54291404e+02, 1.53169215e+02, 7.79424807e+02, 3.28093847e+00,\n",
       "        2.29542412e+02, 9.93850778e+03, 2.10296322e+04, 1.33424407e+05,\n",
       "        1.00595064e+04, 1.40248274e+02, 9.27614120e+03, 7.56035496e+02,\n",
       "        4.82981636e+03]),\n",
       " array([0.00000000e+000, 0.00000000e+000, 2.93585367e-010, 0.00000000e+000,\n",
       "        1.57042296e-115, 0.00000000e+000, 0.00000000e+000, 1.89327093e-189,\n",
       "        2.00007326e-035, 3.51796340e-035, 1.60528118e-171, 7.00888408e-002,\n",
       "        7.50127847e-052, 0.00000000e+000, 0.00000000e+000, 0.00000000e+000,\n",
       "        0.00000000e+000, 2.34921223e-032, 0.00000000e+000, 1.95467454e-166,\n",
       "        0.00000000e+000]))"
      ]
     },
     "execution_count": 32,
     "metadata": {},
     "output_type": "execute_result"
    }
   ],
   "source": [
    "from sklearn.feature_selection import chi2\n",
    "f_score=chi2(x,y)   #returns f score and p value \n",
    "f_score"
   ]
  },
  {
   "cell_type": "code",
   "execution_count": 43,
   "id": "ecea5e87",
   "metadata": {},
   "outputs": [
    {
     "data": {
      "text/html": [
       "<div>\n",
       "<style scoped>\n",
       "    .dataframe tbody tr th:only-of-type {\n",
       "        vertical-align: middle;\n",
       "    }\n",
       "\n",
       "    .dataframe tbody tr th {\n",
       "        vertical-align: top;\n",
       "    }\n",
       "\n",
       "    .dataframe thead th {\n",
       "        text-align: right;\n",
       "    }\n",
       "</style>\n",
       "<table border=\"1\" class=\"dataframe\">\n",
       "  <thead>\n",
       "    <tr style=\"text-align: right;\">\n",
       "      <th></th>\n",
       "      <th>Feature_name</th>\n",
       "      <th>P_value</th>\n",
       "    </tr>\n",
       "  </thead>\n",
       "  <tbody>\n",
       "    <tr>\n",
       "      <th>0</th>\n",
       "      <td>AnyHealthcare</td>\n",
       "      <td>7.008884e-02</td>\n",
       "    </tr>\n",
       "    <tr>\n",
       "      <th>1</th>\n",
       "      <td>CholCheck</td>\n",
       "      <td>2.935854e-10</td>\n",
       "    </tr>\n",
       "    <tr>\n",
       "      <th>2</th>\n",
       "      <td>Sex</td>\n",
       "      <td>2.349212e-32</td>\n",
       "    </tr>\n",
       "    <tr>\n",
       "      <th>3</th>\n",
       "      <td>Veggies</td>\n",
       "      <td>3.517963e-35</td>\n",
       "    </tr>\n",
       "    <tr>\n",
       "      <th>4</th>\n",
       "      <td>Fruits</td>\n",
       "      <td>2.000073e-35</td>\n",
       "    </tr>\n",
       "    <tr>\n",
       "      <th>5</th>\n",
       "      <td>NoDocbcCost</td>\n",
       "      <td>7.501278e-52</td>\n",
       "    </tr>\n",
       "    <tr>\n",
       "      <th>6</th>\n",
       "      <td>Smoker</td>\n",
       "      <td>1.570423e-115</td>\n",
       "    </tr>\n",
       "    <tr>\n",
       "      <th>7</th>\n",
       "      <td>Education</td>\n",
       "      <td>1.954675e-166</td>\n",
       "    </tr>\n",
       "    <tr>\n",
       "      <th>8</th>\n",
       "      <td>HvyAlcoholConsump</td>\n",
       "      <td>1.605281e-171</td>\n",
       "    </tr>\n",
       "    <tr>\n",
       "      <th>9</th>\n",
       "      <td>PhysActivity</td>\n",
       "      <td>1.893271e-189</td>\n",
       "    </tr>\n",
       "    <tr>\n",
       "      <th>10</th>\n",
       "      <td>MentHlth</td>\n",
       "      <td>0.000000e+00</td>\n",
       "    </tr>\n",
       "    <tr>\n",
       "      <th>11</th>\n",
       "      <td>Age</td>\n",
       "      <td>0.000000e+00</td>\n",
       "    </tr>\n",
       "    <tr>\n",
       "      <th>12</th>\n",
       "      <td>DiffWalk</td>\n",
       "      <td>0.000000e+00</td>\n",
       "    </tr>\n",
       "    <tr>\n",
       "      <th>13</th>\n",
       "      <td>PhysHlth</td>\n",
       "      <td>0.000000e+00</td>\n",
       "    </tr>\n",
       "    <tr>\n",
       "      <th>14</th>\n",
       "      <td>HighBP</td>\n",
       "      <td>0.000000e+00</td>\n",
       "    </tr>\n",
       "    <tr>\n",
       "      <th>15</th>\n",
       "      <td>GenHlth</td>\n",
       "      <td>0.000000e+00</td>\n",
       "    </tr>\n",
       "    <tr>\n",
       "      <th>16</th>\n",
       "      <td>HighChol</td>\n",
       "      <td>0.000000e+00</td>\n",
       "    </tr>\n",
       "    <tr>\n",
       "      <th>17</th>\n",
       "      <td>HeartDiseaseorAttack</td>\n",
       "      <td>0.000000e+00</td>\n",
       "    </tr>\n",
       "    <tr>\n",
       "      <th>18</th>\n",
       "      <td>Stroke</td>\n",
       "      <td>0.000000e+00</td>\n",
       "    </tr>\n",
       "    <tr>\n",
       "      <th>19</th>\n",
       "      <td>BMI</td>\n",
       "      <td>0.000000e+00</td>\n",
       "    </tr>\n",
       "    <tr>\n",
       "      <th>20</th>\n",
       "      <td>Income</td>\n",
       "      <td>0.000000e+00</td>\n",
       "    </tr>\n",
       "  </tbody>\n",
       "</table>\n",
       "</div>"
      ],
      "text/plain": [
       "            Feature_name        P_value\n",
       "0          AnyHealthcare   7.008884e-02\n",
       "1              CholCheck   2.935854e-10\n",
       "2                    Sex   2.349212e-32\n",
       "3                Veggies   3.517963e-35\n",
       "4                 Fruits   2.000073e-35\n",
       "5            NoDocbcCost   7.501278e-52\n",
       "6                 Smoker  1.570423e-115\n",
       "7              Education  1.954675e-166\n",
       "8      HvyAlcoholConsump  1.605281e-171\n",
       "9           PhysActivity  1.893271e-189\n",
       "10              MentHlth   0.000000e+00\n",
       "11                   Age   0.000000e+00\n",
       "12              DiffWalk   0.000000e+00\n",
       "13              PhysHlth   0.000000e+00\n",
       "14                HighBP   0.000000e+00\n",
       "15               GenHlth   0.000000e+00\n",
       "16              HighChol   0.000000e+00\n",
       "17  HeartDiseaseorAttack   0.000000e+00\n",
       "18                Stroke   0.000000e+00\n",
       "19                   BMI   0.000000e+00\n",
       "20                Income   0.000000e+00"
      ]
     },
     "execution_count": 43,
     "metadata": {},
     "output_type": "execute_result"
    }
   ],
   "source": [
    "p_value=pd.Series(f_score[1],index=x.columns).to_frame().sort_values(by = 0,ascending = False).reset_index().rename(columns={'index':\"Feature_name\",0:\"P_value\"})\n",
    "p_value"
   ]
  },
  {
   "cell_type": "code",
   "execution_count": 47,
   "id": "dda09a59",
   "metadata": {},
   "outputs": [
    {
     "data": {
      "text/html": [
       "<div>\n",
       "<style scoped>\n",
       "    .dataframe tbody tr th:only-of-type {\n",
       "        vertical-align: middle;\n",
       "    }\n",
       "\n",
       "    .dataframe tbody tr th {\n",
       "        vertical-align: top;\n",
       "    }\n",
       "\n",
       "    .dataframe thead th {\n",
       "        text-align: right;\n",
       "    }\n",
       "</style>\n",
       "<table border=\"1\" class=\"dataframe\">\n",
       "  <thead>\n",
       "    <tr style=\"text-align: right;\">\n",
       "      <th></th>\n",
       "      <th>Feature_name</th>\n",
       "      <th>P_value</th>\n",
       "      <th>Decision</th>\n",
       "    </tr>\n",
       "  </thead>\n",
       "  <tbody>\n",
       "    <tr>\n",
       "      <th>0</th>\n",
       "      <td>AnyHealthcare</td>\n",
       "      <td>7.008884e-02</td>\n",
       "      <td>Accept Null Hypothesis</td>\n",
       "    </tr>\n",
       "    <tr>\n",
       "      <th>1</th>\n",
       "      <td>CholCheck</td>\n",
       "      <td>2.935854e-10</td>\n",
       "      <td>Reject Null Hypothesis</td>\n",
       "    </tr>\n",
       "    <tr>\n",
       "      <th>2</th>\n",
       "      <td>Sex</td>\n",
       "      <td>2.349212e-32</td>\n",
       "      <td>Reject Null Hypothesis</td>\n",
       "    </tr>\n",
       "    <tr>\n",
       "      <th>3</th>\n",
       "      <td>Veggies</td>\n",
       "      <td>3.517963e-35</td>\n",
       "      <td>Reject Null Hypothesis</td>\n",
       "    </tr>\n",
       "    <tr>\n",
       "      <th>4</th>\n",
       "      <td>Fruits</td>\n",
       "      <td>2.000073e-35</td>\n",
       "      <td>Reject Null Hypothesis</td>\n",
       "    </tr>\n",
       "    <tr>\n",
       "      <th>5</th>\n",
       "      <td>NoDocbcCost</td>\n",
       "      <td>7.501278e-52</td>\n",
       "      <td>Reject Null Hypothesis</td>\n",
       "    </tr>\n",
       "    <tr>\n",
       "      <th>6</th>\n",
       "      <td>Smoker</td>\n",
       "      <td>1.570423e-115</td>\n",
       "      <td>Reject Null Hypothesis</td>\n",
       "    </tr>\n",
       "    <tr>\n",
       "      <th>7</th>\n",
       "      <td>Education</td>\n",
       "      <td>1.954675e-166</td>\n",
       "      <td>Reject Null Hypothesis</td>\n",
       "    </tr>\n",
       "    <tr>\n",
       "      <th>8</th>\n",
       "      <td>HvyAlcoholConsump</td>\n",
       "      <td>1.605281e-171</td>\n",
       "      <td>Reject Null Hypothesis</td>\n",
       "    </tr>\n",
       "    <tr>\n",
       "      <th>9</th>\n",
       "      <td>PhysActivity</td>\n",
       "      <td>1.893271e-189</td>\n",
       "      <td>Reject Null Hypothesis</td>\n",
       "    </tr>\n",
       "    <tr>\n",
       "      <th>10</th>\n",
       "      <td>MentHlth</td>\n",
       "      <td>0.000000e+00</td>\n",
       "      <td>Reject Null Hypothesis</td>\n",
       "    </tr>\n",
       "    <tr>\n",
       "      <th>11</th>\n",
       "      <td>Age</td>\n",
       "      <td>0.000000e+00</td>\n",
       "      <td>Reject Null Hypothesis</td>\n",
       "    </tr>\n",
       "    <tr>\n",
       "      <th>12</th>\n",
       "      <td>DiffWalk</td>\n",
       "      <td>0.000000e+00</td>\n",
       "      <td>Reject Null Hypothesis</td>\n",
       "    </tr>\n",
       "    <tr>\n",
       "      <th>13</th>\n",
       "      <td>PhysHlth</td>\n",
       "      <td>0.000000e+00</td>\n",
       "      <td>Reject Null Hypothesis</td>\n",
       "    </tr>\n",
       "    <tr>\n",
       "      <th>14</th>\n",
       "      <td>HighBP</td>\n",
       "      <td>0.000000e+00</td>\n",
       "      <td>Reject Null Hypothesis</td>\n",
       "    </tr>\n",
       "    <tr>\n",
       "      <th>15</th>\n",
       "      <td>GenHlth</td>\n",
       "      <td>0.000000e+00</td>\n",
       "      <td>Reject Null Hypothesis</td>\n",
       "    </tr>\n",
       "    <tr>\n",
       "      <th>16</th>\n",
       "      <td>HighChol</td>\n",
       "      <td>0.000000e+00</td>\n",
       "      <td>Reject Null Hypothesis</td>\n",
       "    </tr>\n",
       "    <tr>\n",
       "      <th>17</th>\n",
       "      <td>HeartDiseaseorAttack</td>\n",
       "      <td>0.000000e+00</td>\n",
       "      <td>Reject Null Hypothesis</td>\n",
       "    </tr>\n",
       "    <tr>\n",
       "      <th>18</th>\n",
       "      <td>Stroke</td>\n",
       "      <td>0.000000e+00</td>\n",
       "      <td>Reject Null Hypothesis</td>\n",
       "    </tr>\n",
       "    <tr>\n",
       "      <th>19</th>\n",
       "      <td>BMI</td>\n",
       "      <td>0.000000e+00</td>\n",
       "      <td>Reject Null Hypothesis</td>\n",
       "    </tr>\n",
       "    <tr>\n",
       "      <th>20</th>\n",
       "      <td>Income</td>\n",
       "      <td>0.000000e+00</td>\n",
       "      <td>Reject Null Hypothesis</td>\n",
       "    </tr>\n",
       "  </tbody>\n",
       "</table>\n",
       "</div>"
      ],
      "text/plain": [
       "            Feature_name        P_value                Decision\n",
       "0          AnyHealthcare   7.008884e-02  Accept Null Hypothesis\n",
       "1              CholCheck   2.935854e-10  Reject Null Hypothesis\n",
       "2                    Sex   2.349212e-32  Reject Null Hypothesis\n",
       "3                Veggies   3.517963e-35  Reject Null Hypothesis\n",
       "4                 Fruits   2.000073e-35  Reject Null Hypothesis\n",
       "5            NoDocbcCost   7.501278e-52  Reject Null Hypothesis\n",
       "6                 Smoker  1.570423e-115  Reject Null Hypothesis\n",
       "7              Education  1.954675e-166  Reject Null Hypothesis\n",
       "8      HvyAlcoholConsump  1.605281e-171  Reject Null Hypothesis\n",
       "9           PhysActivity  1.893271e-189  Reject Null Hypothesis\n",
       "10              MentHlth   0.000000e+00  Reject Null Hypothesis\n",
       "11                   Age   0.000000e+00  Reject Null Hypothesis\n",
       "12              DiffWalk   0.000000e+00  Reject Null Hypothesis\n",
       "13              PhysHlth   0.000000e+00  Reject Null Hypothesis\n",
       "14                HighBP   0.000000e+00  Reject Null Hypothesis\n",
       "15               GenHlth   0.000000e+00  Reject Null Hypothesis\n",
       "16              HighChol   0.000000e+00  Reject Null Hypothesis\n",
       "17  HeartDiseaseorAttack   0.000000e+00  Reject Null Hypothesis\n",
       "18                Stroke   0.000000e+00  Reject Null Hypothesis\n",
       "19                   BMI   0.000000e+00  Reject Null Hypothesis\n",
       "20                Income   0.000000e+00  Reject Null Hypothesis"
      ]
     },
     "execution_count": 47,
     "metadata": {},
     "output_type": "execute_result"
    }
   ],
   "source": [
    "level_of_significance = 0.05\n",
    "p_value['Decision'] = np.where(p_value['P_value'] < 0.05, 'Reject Null Hypothesis', 'Accept Null Hypothesis')\n",
    "p_value"
   ]
  },
  {
   "cell_type": "code",
   "execution_count": 52,
   "id": "1382ef2d",
   "metadata": {},
   "outputs": [],
   "source": [
    "from sklearn.model_selection import train_test_split\n",
    "x = data.drop('Diabetes_binary', axis=1)\n",
    "y = data['Diabetes_binary']\n",
    "\n",
    "# Separating the 80% data for training data and 20% for testing data\n",
    "x_train, x_test, y_train, y_test = train_test_split(x,y,test_size = 0.2, random_state =3, stratify=y)"
   ]
  },
  {
   "cell_type": "code",
   "execution_count": 58,
   "id": "3028fb73",
   "metadata": {},
   "outputs": [],
   "source": [
    "from catboost import CatBoostClassifier\n",
    "from lightgbm import LGBMClassifier\n",
    "from xgboost import XGBClassifier\n",
    "from sklearn.ensemble import RandomForestClassifier, GradientBoostingClassifier\n",
    "from sklearn.tree import DecisionTreeClassifier, ExtraTreeClassifier\n",
    "from sklearn.linear_model import LogisticRegression, RidgeClassifier\n",
    "from sklearn.naive_bayes import GaussianNB\n",
    "from sklearn.svm import SVC \n",
    "\n",
    "from sklearn.model_selection import train_test_split\n",
    "from sklearn.metrics import roc_auc_score\n",
    "algos = [LogisticRegression(), \n",
    "        #SVC(kernel='linear', random_state=0, probability=True),\n",
    "         GaussianNB(),\n",
    "         ExtraTreeClassifier(max_depth=5),\n",
    "        RandomForestClassifier(max_depth=5,n_estimators=1000, max_features='auto', class_weight='balanced'),\n",
    "        DecisionTreeClassifier(max_depth=5),\n",
    "        CatBoostClassifier(eval_metric='AUC', metric_period=20, logging_level='Silent'),\n",
    "        LGBMClassifier(n_estimators=500),\n",
    "         XGBClassifier(max_depth=4, n_estimators=500),]\n",
    "\n",
    "names = ['Logistic_Regression','Guassian','ExtraTree','RandomForest','Decision_Tree','Catboost', 'Lightgbm', 'Xgboost']\n",
    "roc_list = []"
   ]
  },
  {
   "cell_type": "code",
   "execution_count": 59,
   "id": "27b64dc3",
   "metadata": {},
   "outputs": [
    {
     "name": "stderr",
     "output_type": "stream",
     "text": [
      "C:\\Users\\hp\\AppData\\Roaming\\Python\\Python39\\site-packages\\sklearn\\linear_model\\_logistic.py:444: ConvergenceWarning: lbfgs failed to converge (status=1):\n",
      "STOP: TOTAL NO. of ITERATIONS REACHED LIMIT.\n",
      "\n",
      "Increase the number of iterations (max_iter) or scale the data as shown in:\n",
      "    https://scikit-learn.org/stable/modules/preprocessing.html\n",
      "Please also refer to the documentation for alternative solver options:\n",
      "    https://scikit-learn.org/stable/modules/linear_model.html#logistic-regression\n",
      "  n_iter_i = _check_optimize_result(\n",
      "C:\\Users\\hp\\AppData\\Roaming\\Python\\Python39\\site-packages\\sklearn\\ensemble\\_forest.py:427: FutureWarning: `max_features='auto'` has been deprecated in 1.1 and will be removed in 1.3. To keep the past behaviour, explicitly set `max_features='sqrt'` or remove this parameter as it is also the default value for RandomForestClassifiers and ExtraTreesClassifiers.\n",
      "  warn(\n"
     ]
    }
   ],
   "source": [
    "for name in algos:\n",
    "    model = name\n",
    "    model.fit(X_train,y_train)\n",
    "    y_pred = model.predict_proba(X_test)[:,1]\n",
    "    score= roc_auc_score(y_test,y_pred)\n",
    "    roc_list.append(score)"
   ]
  },
  {
   "cell_type": "code",
   "execution_count": 60,
   "id": "d4b127f4",
   "metadata": {},
   "outputs": [],
   "source": [
    "evaluation = pd.DataFrame({'Model': names,\n",
    "                           'Score': roc_list})"
   ]
  },
  {
   "cell_type": "code",
   "execution_count": 61,
   "id": "06a223ee",
   "metadata": {},
   "outputs": [],
   "source": [
    "evaluation = evaluation.sort_values(by='Score', ascending=False)\n"
   ]
  },
  {
   "cell_type": "code",
   "execution_count": 62,
   "id": "e09c53b6",
   "metadata": {},
   "outputs": [
    {
     "data": {
      "text/html": [
       "<div>\n",
       "<style scoped>\n",
       "    .dataframe tbody tr th:only-of-type {\n",
       "        vertical-align: middle;\n",
       "    }\n",
       "\n",
       "    .dataframe tbody tr th {\n",
       "        vertical-align: top;\n",
       "    }\n",
       "\n",
       "    .dataframe thead th {\n",
       "        text-align: right;\n",
       "    }\n",
       "</style>\n",
       "<table border=\"1\" class=\"dataframe\">\n",
       "  <thead>\n",
       "    <tr style=\"text-align: right;\">\n",
       "      <th></th>\n",
       "      <th>Model</th>\n",
       "      <th>Score</th>\n",
       "    </tr>\n",
       "  </thead>\n",
       "  <tbody>\n",
       "    <tr>\n",
       "      <th>5</th>\n",
       "      <td>Catboost</td>\n",
       "      <td>0.828933</td>\n",
       "    </tr>\n",
       "    <tr>\n",
       "      <th>6</th>\n",
       "      <td>Lightgbm</td>\n",
       "      <td>0.828274</td>\n",
       "    </tr>\n",
       "    <tr>\n",
       "      <th>7</th>\n",
       "      <td>Xgboost</td>\n",
       "      <td>0.826216</td>\n",
       "    </tr>\n",
       "    <tr>\n",
       "      <th>3</th>\n",
       "      <td>RandomForest</td>\n",
       "      <td>0.818549</td>\n",
       "    </tr>\n",
       "    <tr>\n",
       "      <th>0</th>\n",
       "      <td>Logistic_Regression</td>\n",
       "      <td>0.814885</td>\n",
       "    </tr>\n",
       "    <tr>\n",
       "      <th>4</th>\n",
       "      <td>Decision_Tree</td>\n",
       "      <td>0.805357</td>\n",
       "    </tr>\n",
       "    <tr>\n",
       "      <th>1</th>\n",
       "      <td>Guassian</td>\n",
       "      <td>0.786809</td>\n",
       "    </tr>\n",
       "    <tr>\n",
       "      <th>2</th>\n",
       "      <td>ExtraTree</td>\n",
       "      <td>0.727032</td>\n",
       "    </tr>\n",
       "  </tbody>\n",
       "</table>\n",
       "</div>"
      ],
      "text/plain": [
       "                 Model     Score\n",
       "5             Catboost  0.828933\n",
       "6             Lightgbm  0.828274\n",
       "7              Xgboost  0.826216\n",
       "3         RandomForest  0.818549\n",
       "0  Logistic_Regression  0.814885\n",
       "4        Decision_Tree  0.805357\n",
       "1             Guassian  0.786809\n",
       "2            ExtraTree  0.727032"
      ]
     },
     "execution_count": 62,
     "metadata": {},
     "output_type": "execute_result"
    }
   ],
   "source": [
    "evaluation\n"
   ]
  },
  {
   "cell_type": "code",
   "execution_count": null,
   "id": "9de4a153",
   "metadata": {},
   "outputs": [],
   "source": []
  }
 ],
 "metadata": {
  "kernelspec": {
   "display_name": "Python 3 (ipykernel)",
   "language": "python",
   "name": "python3"
  },
  "language_info": {
   "codemirror_mode": {
    "name": "ipython",
    "version": 3
   },
   "file_extension": ".py",
   "mimetype": "text/x-python",
   "name": "python",
   "nbconvert_exporter": "python",
   "pygments_lexer": "ipython3",
   "version": "3.9.12"
  }
 },
 "nbformat": 4,
 "nbformat_minor": 5
}
